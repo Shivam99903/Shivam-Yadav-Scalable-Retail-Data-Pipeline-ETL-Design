{
 "cells": [
  {
   "cell_type": "code",
   "execution_count": 8,
   "id": "f08dc28b",
   "metadata": {},
   "outputs": [],
   "source": [
    "import snowflake.connector\n",
    "from utils import get_snowflake_connection_from_yaml\n",
    "import pandas as pd"
   ]
  },
  {
   "cell_type": "code",
   "execution_count": null,
   "id": "73cde199",
   "metadata": {},
   "outputs": [
    {
     "name": "stdout",
     "output_type": "stream",
     "text": [
      "Incremental load complete.\n"
     ]
    }
   ],
   "source": [
    "\n",
    "conn = get_snowflake_connection_from_yaml()\n",
    "cs = conn.cursor()\n",
    "\n",
    "try:\n",
    "        sql = f\"\"\"\n",
    "        INSERT INTO PUBLIC.unified_sales_transactions (\n",
    "            transaction_id,\n",
    "            store_name,\n",
    "            city,\n",
    "            region,\n",
    "            product_name,\n",
    "            category,\n",
    "            quantity_sold,\n",
    "            price_sold,\n",
    "            stock_quantity,\n",
    "            sale_date\n",
    "        )\n",
    "        SELECT\n",
    "            transaction_id,\n",
    "            store_name,\n",
    "            city,\n",
    "            region,\n",
    "            product_name,\n",
    "            category,\n",
    "            quantity_sold,\n",
    "            price_sold,\n",
    "            stock_quantity,\n",
    "            sale_date\n",
    "        FROM PUBLIC.vw_unified_sales_transactions v\n",
    "        WHERE NOT EXISTS (\n",
    "            SELECT 1 \n",
    "            FROM PUBLIC.unified_sales_transactions u\n",
    "            WHERE u.transaction_id = v.transaction_id\n",
    "                  and i.product_id\n",
    "        );\n",
    "        \"\"\"\n",
    "        cs.execute(sql)\n",
    "        print(\"Incremental load complete.\")\n",
    "except Exception as e:\n",
    "        print(f\"Error during incremental load: {e}\")\n",
    "finally:\n",
    "        cs.close()\n",
    "        conn.close()"
   ]
  }
 ],
 "metadata": {
  "kernelspec": {
   "display_name": "base",
   "language": "python",
   "name": "python3"
  },
  "language_info": {
   "codemirror_mode": {
    "name": "ipython",
    "version": 3
   },
   "file_extension": ".py",
   "mimetype": "text/x-python",
   "name": "python",
   "nbconvert_exporter": "python",
   "pygments_lexer": "ipython3",
   "version": "3.12.7"
  }
 },
 "nbformat": 4,
 "nbformat_minor": 5
}
