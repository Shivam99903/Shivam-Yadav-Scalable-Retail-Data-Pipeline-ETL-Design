{
 "cells": [
  {
   "cell_type": "code",
   "execution_count": 15,
   "id": "eb34e400",
   "metadata": {},
   "outputs": [
    {
     "name": "stdout",
     "output_type": "stream",
     "text": [
      "Requirement already satisfied: snowflake-connector-python in /opt/anaconda3/lib/python3.12/site-packages (3.18.0)\n",
      "Requirement already satisfied: pyyaml in /opt/anaconda3/lib/python3.12/site-packages (6.0.1)\n",
      "Requirement already satisfied: asn1crypto<2.0.0,>0.24.0 in /opt/anaconda3/lib/python3.12/site-packages (from snowflake-connector-python) (1.5.1)\n",
      "Requirement already satisfied: boto3>=1.24 in /opt/anaconda3/lib/python3.12/site-packages (from snowflake-connector-python) (1.40.47)\n",
      "Requirement already satisfied: botocore>=1.24 in /opt/anaconda3/lib/python3.12/site-packages (from snowflake-connector-python) (1.40.47)\n",
      "Requirement already satisfied: cffi<2.0.0,>=1.9 in /opt/anaconda3/lib/python3.12/site-packages (from snowflake-connector-python) (1.17.1)\n",
      "Requirement already satisfied: cryptography>=3.1.0 in /opt/anaconda3/lib/python3.12/site-packages (from snowflake-connector-python) (43.0.0)\n",
      "Requirement already satisfied: pyOpenSSL<26.0.0,>=22.0.0 in /opt/anaconda3/lib/python3.12/site-packages (from snowflake-connector-python) (24.2.1)\n",
      "Requirement already satisfied: pyjwt<3.0.0 in /opt/anaconda3/lib/python3.12/site-packages (from snowflake-connector-python) (2.8.0)\n",
      "Requirement already satisfied: pytz in /opt/anaconda3/lib/python3.12/site-packages (from snowflake-connector-python) (2024.1)\n",
      "Requirement already satisfied: requests<3.0.0 in /opt/anaconda3/lib/python3.12/site-packages (from snowflake-connector-python) (2.32.3)\n",
      "Requirement already satisfied: packaging in /opt/anaconda3/lib/python3.12/site-packages (from snowflake-connector-python) (24.1)\n",
      "Requirement already satisfied: charset_normalizer<4,>=2 in /opt/anaconda3/lib/python3.12/site-packages (from snowflake-connector-python) (3.3.2)\n",
      "Requirement already satisfied: idna<4,>=2.5 in /opt/anaconda3/lib/python3.12/site-packages (from snowflake-connector-python) (3.7)\n",
      "Requirement already satisfied: certifi>=2017.4.17 in /opt/anaconda3/lib/python3.12/site-packages (from snowflake-connector-python) (2025.4.26)\n",
      "Requirement already satisfied: typing_extensions<5,>=4.3 in /opt/anaconda3/lib/python3.12/site-packages (from snowflake-connector-python) (4.11.0)\n",
      "Requirement already satisfied: filelock<4,>=3.5 in /opt/anaconda3/lib/python3.12/site-packages (from snowflake-connector-python) (3.13.1)\n",
      "Requirement already satisfied: sortedcontainers>=2.4.0 in /opt/anaconda3/lib/python3.12/site-packages (from snowflake-connector-python) (2.4.0)\n",
      "Requirement already satisfied: platformdirs<5.0.0,>=2.6.0 in /opt/anaconda3/lib/python3.12/site-packages (from snowflake-connector-python) (3.10.0)\n",
      "Requirement already satisfied: tomlkit in /opt/anaconda3/lib/python3.12/site-packages (from snowflake-connector-python) (0.11.1)\n",
      "Requirement already satisfied: jmespath<2.0.0,>=0.7.1 in /opt/anaconda3/lib/python3.12/site-packages (from boto3>=1.24->snowflake-connector-python) (1.0.1)\n",
      "Requirement already satisfied: s3transfer<0.15.0,>=0.14.0 in /opt/anaconda3/lib/python3.12/site-packages (from boto3>=1.24->snowflake-connector-python) (0.14.0)\n",
      "Requirement already satisfied: python-dateutil<3.0.0,>=2.1 in /opt/anaconda3/lib/python3.12/site-packages (from botocore>=1.24->snowflake-connector-python) (2.9.0.post0)\n",
      "Requirement already satisfied: urllib3!=2.2.0,<3,>=1.25.4 in /opt/anaconda3/lib/python3.12/site-packages (from botocore>=1.24->snowflake-connector-python) (2.2.3)\n",
      "Requirement already satisfied: pycparser in /opt/anaconda3/lib/python3.12/site-packages (from cffi<2.0.0,>=1.9->snowflake-connector-python) (2.21)\n",
      "Requirement already satisfied: six>=1.5 in /opt/anaconda3/lib/python3.12/site-packages (from python-dateutil<3.0.0,>=2.1->botocore>=1.24->snowflake-connector-python) (1.16.0)\n",
      "Note: you may need to restart the kernel to use updated packages.\n"
     ]
    }
   ],
   "source": [
    "%pip install snowflake-connector-python pyyaml"
   ]
  },
  {
   "cell_type": "code",
   "execution_count": 22,
   "id": "a2291b0b",
   "metadata": {},
   "outputs": [],
   "source": [
    "from utils import get_snowflake_connection_from_yaml"
   ]
  },
  {
   "cell_type": "code",
   "execution_count": 23,
   "id": "7deaba84",
   "metadata": {},
   "outputs": [],
   "source": [
    "conn = get_snowflake_connection_from_yaml()\n",
    "cs = conn.cursor()"
   ]
  },
  {
   "cell_type": "code",
   "execution_count": 24,
   "id": "5cc252da",
   "metadata": {},
   "outputs": [],
   "source": [
    "# SQL DDL statements for raw layer tables\n",
    "raw_inventory_ddl = '''\n",
    "CREATE OR REPLACE TABLE RAW_INVENTORY (\n",
    "    PRODUCT_ID VARCHAR,\n",
    "    STORE_ID VARCHAR,\n",
    "    stock_quantity INTEGER,\n",
    "    LAST_UPDATED DATETIME\n",
    ");\n",
    "'''\n",
    "raw_product_ddl = '''\n",
    "CREATE OR REPLACE TABLE RAW_PRODUCT (\n",
    "    PRODUCT_ID VARCHAR,\n",
    "    PRODUCT_NAME VARCHAR,\n",
    "    CATEGORY VARCHAR,\n",
    "    cost_price FLOAT\n",
    ");\n",
    "\n",
    "'''\n",
    "raw_sales_transaction_ddl = '''\n",
    "CREATE OR REPLACE TABLE RAW_SALES_TRANSACTION (\n",
    "    TRANSACTION_ID VARCHAR,\n",
    "    SALE_DATE DATETIME,\n",
    "    PRODUCT_ID VARCHAR,\n",
    "    STORE_ID VARCHAR,\n",
    "    QUANTITY_SOLD INTEGER,\n",
    "    price_sold FLOAT\n",
    ");\n",
    "\n",
    "'''\n",
    "raw_store_ddl = '''\n",
    "CREATE OR REPLACE TABLE RAW_STORE (\n",
    "    STORE_ID VARCHAR,\n",
    "    STORE_NAME VARCHAR,\n",
    "    REGION VARCHAR,\n",
    "    CITY VARCHAR\n",
    ");\n",
    "'''\n",
    "\n",
    "unified_table_ddl = '''CREATE OR REPLACE TABLE unified_sales_transactions (\n",
    "    UST_RECORD_ID INTEGER AUTOINCREMENT PRIMARY KEY,\n",
    "    transaction_id VARCHAR,\n",
    "    store_name VARCHAR,\n",
    "    city VARCHAR,\n",
    "    region VARCHAR,\n",
    "    product_name VARCHAR,\n",
    "    category VARCHAR,\n",
    "    quantity_sold INTEGER,\n",
    "    price_sold FLOAT,\n",
    "    stock_quantity INTEGER,\n",
    "    sale_date TIMESTAMP\n",
    ");'''\n",
    "\n"
   ]
  },
  {
   "cell_type": "code",
   "execution_count": 25,
   "id": "69f07e70",
   "metadata": {},
   "outputs": [
    {
     "name": "stdout",
     "output_type": "stream",
     "text": [
      "Raw layer tables created successfully in Snowflake.\n"
     ]
    }
   ],
   "source": [
    "# Execute DDL statements\n",
    "try:\n",
    "    cs.execute(raw_inventory_ddl)\n",
    "    cs.execute(raw_product_ddl)\n",
    "    cs.execute(raw_sales_transaction_ddl)\n",
    "    cs.execute(raw_store_ddl)\n",
    "    cs.execute(unified_table_ddl)\n",
    "    print(\"Raw layer tables created successfully in Snowflake.\")\n",
    "except Exception as e:\n",
    "    print(\"Error creating tables:\", e)\n",
    "finally:\n",
    "    cs.close()"
   ]
  }
 ],
 "metadata": {
  "kernelspec": {
   "display_name": "base",
   "language": "python",
   "name": "python3"
  },
  "language_info": {
   "codemirror_mode": {
    "name": "ipython",
    "version": 3
   },
   "file_extension": ".py",
   "mimetype": "text/x-python",
   "name": "python",
   "nbconvert_exporter": "python",
   "pygments_lexer": "ipython3",
   "version": "3.12.7"
  }
 },
 "nbformat": 4,
 "nbformat_minor": 5
}
